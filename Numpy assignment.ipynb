{
 "cells": [
  {
   "cell_type": "code",
   "execution_count": 1,
   "id": "b98e9c4f-6e4e-46f1-a20b-3ee09575801d",
   "metadata": {
    "tags": []
   },
   "outputs": [],
   "source": [
    "#ASSIGNMENT QUESTION"
   ]
  },
  {
   "cell_type": "code",
   "execution_count": 2,
   "id": "e0a0f22d-e3d8-42c6-bd06-085c5d5eb9e8",
   "metadata": {
    "tags": []
   },
   "outputs": [],
   "source": [
    "#NUMPY ASSIGNMENT"
   ]
  },
  {
   "cell_type": "code",
   "execution_count": 3,
   "id": "8bd763f3-d937-4e01-a496-62c5ac44b0d0",
   "metadata": {
    "tags": []
   },
   "outputs": [],
   "source": [
    "#QUESTION 1"
   ]
  },
  {
   "cell_type": "code",
   "execution_count": 4,
   "id": "1cd0ce33-ae17-4101-b1cc-48973d77a7d7",
   "metadata": {
    "tags": []
   },
   "outputs": [],
   "source": [
    "#WHAT IS A PYTHON LIBRARY? WHY DO WE USE PYTHON LIBRARIES?"
   ]
  },
  {
   "cell_type": "code",
   "execution_count": null,
   "id": "59abe3e6-74ec-44f4-91e7-56e9a3b9198b",
   "metadata": {},
   "outputs": [],
   "source": [
    "\"\"\" A python library is a collection of pre-written code that provides a set of functions and tools that you can \n",
    "    use to perform specific tasks in your python program. These libraries are creates by other developers and are\n",
    "    designed to make your life easier by providing ready-made solutions to common problems.\n",
    "    \n",
    "    we use python libraries for several reasons. first, they save us time and effort by providing pre-built \n",
    "    functions that we use instead of writing all the code from scratch this allows us to focus on solving the\n",
    "    specific problem at hand rather than reinventing the wheel.\n",
    "    \n",
    "    second, python ibraries often have optimized code and alogorithms that are tested and proven to work well. by\n",
    "    using these libraries, we can benifit from the expertise and experience of other developers, resulting in\n",
    "    more efficient and reliable code.\n",
    "    \n",
    "    lastly, python libraries allow us to leverage the power of a larger community. there are countless libraries\n",
    "    available for various purposes, and by using them, we can tap into a vast pool of knowledge and resourses. \n",
    "    this means we can build more complex and feature-rich applications with having to start from scratch.\n",
    "    \n",
    "    So, in a nutshell, python libraries are like toolboxes filled with ready-to-use tools that help us solve \n",
    "    problems faster and more efficiently. they're an essential part of the python ecosystem."
   ]
  },
  {
   "cell_type": "code",
   "execution_count": null,
   "id": "82572b97-1ecf-4095-9fdf-04b048f66fae",
   "metadata": {},
   "outputs": [],
   "source": []
  },
  {
   "cell_type": "code",
   "execution_count": null,
   "id": "42d8e6cd-18c8-403e-ac5a-9a119e1d6a1c",
   "metadata": {},
   "outputs": [],
   "source": []
  },
  {
   "cell_type": "code",
   "execution_count": 5,
   "id": "866055c8-5fc5-4409-863c-591a5355205f",
   "metadata": {
    "tags": []
   },
   "outputs": [],
   "source": [
    "#QUESTION 2"
   ]
  },
  {
   "cell_type": "code",
   "execution_count": 6,
   "id": "fa9b0dbe-5440-48b9-ab1d-ac8d8e5d1c09",
   "metadata": {
    "tags": []
   },
   "outputs": [],
   "source": [
    "#WHAT IS THE DIFFERENCE BETWEEN NUMPTY ARRAY AND LIST?"
   ]
  },
  {
   "cell_type": "code",
   "execution_count": null,
   "id": "93a7515a-6e13-464e-9370-16bb9a0a3de9",
   "metadata": {},
   "outputs": [],
   "source": [
    "\"\"\"The main difference between a NumPy array and a list in Python is how they store and handle data.\n",
    "\n",
    "   A list is a built-in data structure in Python that can hold elements of different data types. It's a versatile\n",
    "   container that allows you to add, remove, and modify elements easily. However, lists are not optimized for\n",
    "   numerical computations.\n",
    "\n",
    "   On the other hand, a NumPy array is a powerful data structure specifically designed for numerical operations.\n",
    "   It stores elements of the same data type in a contiguous block of memory, which allows for efficient\n",
    "   computation. NumPy arrays also provide a wide range of mathematical functions and operations that can be \n",
    "   applied to the entire array, making it easier to perform complex calculations.\n",
    "\n",
    "   In terms of performance, NumPy arrays are generally faster and more memory-efficient than lists when working\n",
    "   with large amounts of numerical data. They also provide additional functionalities like indexing, slicing,\n",
    "   and broadcasting, which can simplify your code and make it more concise.\n",
    "\n",
    "   So, if you're working with numerical data and need to perform computations efficiently, using NumPy arrays is\n",
    "   usually the way to go. But if you're dealing with a heterogeneous collection of elements or need more\n",
    "   flexibility in manipulating your data, then lists might be a better choice."
   ]
  },
  {
   "cell_type": "code",
   "execution_count": null,
   "id": "f862daec-db2b-4f27-9cd7-672c9a4332a0",
   "metadata": {},
   "outputs": [],
   "source": []
  },
  {
   "cell_type": "code",
   "execution_count": null,
   "id": "e5752934-ffa1-48b7-b2e9-a28b56475dae",
   "metadata": {},
   "outputs": [],
   "source": []
  },
  {
   "cell_type": "code",
   "execution_count": 7,
   "id": "32b8a2ad-bce4-4140-8da1-f2a61c03939b",
   "metadata": {
    "tags": []
   },
   "outputs": [],
   "source": [
    "#QUESTION 3"
   ]
  },
  {
   "cell_type": "code",
   "execution_count": null,
   "id": "26d08400-a4c5-44a8-9dc2-bd1e6fbf2c70",
   "metadata": {},
   "outputs": [],
   "source": [
    "#FIND THE SHAPE, SIZE AND DIMENTION OF THE FOLLOWING ARRAY?\n",
    "[[1,2,3,4]\n",
    "[5,6,7,8],\n",
    "[9,10,11,12]]"
   ]
  },
  {
   "cell_type": "code",
   "execution_count": 10,
   "id": "803a854e-6716-4fe3-9878-2e4853411a67",
   "metadata": {
    "tags": []
   },
   "outputs": [
    {
     "name": "stdout",
     "output_type": "stream",
     "text": [
      "Shape: (3, 4)\n",
      "Size: 12\n",
      "Dimension: 2\n",
      "Element at row 1, column 2: 7\n",
      "First row: [1 2 3 4]\n",
      "Last column: [ 4  8 12]\n",
      "Sum of all elements: 78\n",
      "Maximum value: 12\n",
      "Average of each column: [5. 6. 7. 8.]\n"
     ]
    }
   ],
   "source": [
    "import numpy as np\n",
    "my_array = np.array([[1,2,3,4],[5,6,7,8],[9,10,11,12]])\n",
    "print(\"Shape:\",my_array.shape)\n",
    "print(\"Size:\", my_array.size)\n",
    "print(\"Dimension:\",my_array.ndim)\n",
    "print(\"Element at row 1, column 2:\", my_array[1,2])\n",
    "print(\"First row:\",my_array[0,:])\n",
    "print(\"Last column:\",my_array[:,-1])\n",
    "print(\"Sum of all elements:\",np.sum(my_array))\n",
    "print(\"Maximum value:\",np.max(my_array))\n",
    "print(\"Average of each column:\",np.mean(my_array,axis=0))"
   ]
  },
  {
   "cell_type": "code",
   "execution_count": null,
   "id": "4e5fe9c2-daa2-4638-9848-71abcdf59f0f",
   "metadata": {},
   "outputs": [],
   "source": []
  },
  {
   "cell_type": "code",
   "execution_count": null,
   "id": "95cd08b8-d368-413f-8248-bbdd3a29cc40",
   "metadata": {},
   "outputs": [],
   "source": []
  },
  {
   "cell_type": "code",
   "execution_count": 11,
   "id": "6fea3f75-f118-4cdc-a133-cc023cad22f9",
   "metadata": {
    "tags": []
   },
   "outputs": [],
   "source": [
    "#QUESTION 4"
   ]
  },
  {
   "cell_type": "code",
   "execution_count": null,
   "id": "4cc9a876-7c0d-4068-a901-b6179f49650d",
   "metadata": {},
   "outputs": [],
   "source": [
    "#write python code to access the first row of the following rray?\n",
    "[[1,2,3,4]\n",
    "[5,6,7,8],\n",
    "[9,10,11,12]]"
   ]
  },
  {
   "cell_type": "code",
   "execution_count": 1,
   "id": "7a87112f-7047-44dd-8fdb-9a11c42be415",
   "metadata": {
    "tags": []
   },
   "outputs": [
    {
     "name": "stdout",
     "output_type": "stream",
     "text": [
      "[1, 2, 3, 4]\n"
     ]
    }
   ],
   "source": [
    "array = [[1,2,3,4],[5,6,7,8],[9,10,11,12]]\n",
    "first_row = array[0]\n",
    "print(first_row)"
   ]
  },
  {
   "cell_type": "code",
   "execution_count": null,
   "id": "8afbffe6-3d67-4e06-a999-ea126077f418",
   "metadata": {},
   "outputs": [],
   "source": []
  },
  {
   "cell_type": "code",
   "execution_count": null,
   "id": "0fce8d99-b78a-417b-b34d-3f0db36f6c7b",
   "metadata": {},
   "outputs": [],
   "source": []
  },
  {
   "cell_type": "code",
   "execution_count": 2,
   "id": "bdddf98e-d784-4d1f-a82f-8cf9b9f6d232",
   "metadata": {
    "tags": []
   },
   "outputs": [],
   "source": [
    "#QUESTION 5"
   ]
  },
  {
   "cell_type": "code",
   "execution_count": 3,
   "id": "90172725-26d2-47f0-aeed-e70b49f529b5",
   "metadata": {
    "tags": []
   },
   "outputs": [],
   "source": [
    "#HOW DO YOU ACCESS THE ELEMENT AT THE THIRD ROW AND FOURTH COLUMN FROM THE GIVEN NUMPY ARRAY?\n",
    "[[1,2,3,4]\n",
    "[5,6,7,8],\n",
    "[9,10,11,12]]"
   ]
  },
  {
   "cell_type": "code",
   "execution_count": 4,
   "id": "b0422c78-ceff-43f4-a3a9-f546fa299542",
   "metadata": {
    "tags": []
   },
   "outputs": [
    {
     "name": "stdout",
     "output_type": "stream",
     "text": [
      "12\n"
     ]
    }
   ],
   "source": [
    "import numpy as np\n",
    "array = np.array([[1,2,3,4],[5,6,7,8],[9,10,11,12]])\n",
    "element = array[2,3]\n",
    "print(element)"
   ]
  },
  {
   "cell_type": "code",
   "execution_count": null,
   "id": "14c7e0a7-a727-4828-81b6-699b140a01c4",
   "metadata": {},
   "outputs": [],
   "source": []
  },
  {
   "cell_type": "code",
   "execution_count": null,
   "id": "dba4edc4-53dc-4fe3-8024-a3e71548a95b",
   "metadata": {},
   "outputs": [],
   "source": []
  },
  {
   "cell_type": "code",
   "execution_count": 5,
   "id": "675b323b-fea6-453d-a591-20013af585a5",
   "metadata": {
    "tags": []
   },
   "outputs": [],
   "source": [
    "#QUESTION 6"
   ]
  },
  {
   "cell_type": "code",
   "execution_count": null,
   "id": "ea981879-d9e1-43dc-b583-eaa677fc237f",
   "metadata": {},
   "outputs": [],
   "source": [
    "#WRITE CODE TO EXTRACT ALL ODD-INDEXED ELEMENTS FROM THE GIVEN NUMPY ARRAY?\n",
    "[[1,2,3,4]\n",
    "[5,6,7,8],\n",
    "[9,10,11,12]]"
   ]
  },
  {
   "cell_type": "code",
   "execution_count": 6,
   "id": "4d92260a-764f-4fb0-8f82-ff31925685d3",
   "metadata": {
    "tags": []
   },
   "outputs": [
    {
     "name": "stdout",
     "output_type": "stream",
     "text": [
      "[[ 2  4]\n",
      " [ 6  8]\n",
      " [10 12]]\n"
     ]
    }
   ],
   "source": [
    "import numpy as np\n",
    "array = np.array([[1,2,3,4],[5,6,7,8],[9,10,11,12]])\n",
    "odd_elements = array[:,1::2]\n",
    "print(odd_elements)"
   ]
  },
  {
   "cell_type": "code",
   "execution_count": null,
   "id": "41817bd4-fae6-4fc5-acc8-c2b58b6a46d1",
   "metadata": {},
   "outputs": [],
   "source": []
  },
  {
   "cell_type": "code",
   "execution_count": null,
   "id": "b7a4e781-6817-4aa1-8b1e-e16c87cce406",
   "metadata": {},
   "outputs": [],
   "source": []
  },
  {
   "cell_type": "code",
   "execution_count": 7,
   "id": "5d53d47f-7605-4306-8501-665f4f60112f",
   "metadata": {
    "tags": []
   },
   "outputs": [],
   "source": [
    "#QUESTION 7"
   ]
  },
  {
   "cell_type": "code",
   "execution_count": 8,
   "id": "5a65cd7d-f457-4eff-a5ef-a9ce758961d4",
   "metadata": {
    "tags": []
   },
   "outputs": [],
   "source": [
    "#HOW CAN YOU GENERATE A RANDOM 3*3 MATRIX WITH VALUES BETWEEN 0 AND 1?"
   ]
  },
  {
   "cell_type": "code",
   "execution_count": 9,
   "id": "f3d4ad41-a99f-4f41-9c96-3286ad742da8",
   "metadata": {
    "tags": []
   },
   "outputs": [
    {
     "name": "stdout",
     "output_type": "stream",
     "text": [
      "[[0.33569436 0.28983222 0.16552696]\n",
      " [0.00385364 0.48513251 0.59368703]\n",
      " [0.6768482  0.07625696 0.29886263]]\n"
     ]
    }
   ],
   "source": [
    "import numpy as np\n",
    "random_matrix = np.random.random((3,3))\n",
    "print(random_matrix)"
   ]
  },
  {
   "cell_type": "code",
   "execution_count": null,
   "id": "4f869df1-6159-401f-90f7-1bda63b2c2f4",
   "metadata": {},
   "outputs": [],
   "source": []
  },
  {
   "cell_type": "code",
   "execution_count": null,
   "id": "3c54b58d-2b90-4e60-a885-59864fdee218",
   "metadata": {},
   "outputs": [],
   "source": []
  },
  {
   "cell_type": "code",
   "execution_count": 10,
   "id": "84acc9f9-86c2-4a32-bec1-fda7825a7779",
   "metadata": {
    "tags": []
   },
   "outputs": [],
   "source": [
    "#QUESTION 8"
   ]
  },
  {
   "cell_type": "code",
   "execution_count": 11,
   "id": "70fd783d-7770-4d3c-8f7e-8653f8aa2ffa",
   "metadata": {
    "tags": []
   },
   "outputs": [],
   "source": [
    "#DESCRIBE THE DIFFERENCE BETWEEN np.random.rand AND npp.random.randn?"
   ]
  },
  {
   "cell_type": "code",
   "execution_count": null,
   "id": "abd684c6-3cb7-4518-a76d-2df2d70ef86e",
   "metadata": {},
   "outputs": [],
   "source": [
    "\"\"\"The difference between np.random.rand and np.random.randn lies in the way they generate random numbers.\n",
    "\n",
    "- np.random.rand generates random numbers from a uniform distribution between 0 and 1. It takes the shape of the \n",
    "  desired output as arguments. For example, np.random.rand(3, 3) will generate a 3x3 matrix with random values\n",
    "  between 0 and 1.\n",
    "\n",
    "- On the other hand, np.random.randn generates random numbers from a standard normal distribution\n",
    "  (mean 0, standard deviation 1). It also takes the shape of the desired output as arguments. For example,\n",
    "  np.random.randn(3, 3) will generate a 3x3 matrix with random values from a standard normal distribution.\n",
    "\n",
    "In summary, np.random.rand generates random numbers from a uniform distribution between 0 and 1, while\n",
    "np.random.randn generates random numbers from a standard normal distribution."
   ]
  },
  {
   "cell_type": "code",
   "execution_count": null,
   "id": "24737056-f8b2-4cca-9c3a-97843e54022b",
   "metadata": {},
   "outputs": [],
   "source": []
  },
  {
   "cell_type": "code",
   "execution_count": null,
   "id": "58cd602a-71b7-4459-9406-782420103f54",
   "metadata": {},
   "outputs": [],
   "source": []
  },
  {
   "cell_type": "code",
   "execution_count": 12,
   "id": "1afc0d28-24ef-4396-8ed5-508b41fcfe83",
   "metadata": {
    "tags": []
   },
   "outputs": [],
   "source": [
    "#QUESTION 9"
   ]
  },
  {
   "cell_type": "code",
   "execution_count": 15,
   "id": "eb5ef788-b796-4221-a3ea-1711dee756c2",
   "metadata": {
    "tags": []
   },
   "outputs": [],
   "source": [
    "#WRITE CODE TO INCREASE THE DIMENSION OF THE FOLLOWING ARRAY?\n",
    "[[1,2,3,4]\n",
    "[5,6,7,8],\n",
    "[9,10,11,12]]"
   ]
  },
  {
   "cell_type": "code",
   "execution_count": 17,
   "id": "b030f4e4-7c14-4a13-a990-64d1cad687aa",
   "metadata": {
    "tags": []
   },
   "outputs": [
    {
     "name": "stdout",
     "output_type": "stream",
     "text": [
      "[[[ 1  2  3  4]\n",
      "  [ 5  6  7  8]\n",
      "  [ 9 10 11 12]]]\n"
     ]
    }
   ],
   "source": [
    "import numpy as np\n",
    "original_array = np.array([[1,2,3,4],[5,6,7,8],[9,10,11,12]])\n",
    "expanded_array = np.expand_dims(original_array,axis=0)\n",
    "print(expanded_array)"
   ]
  },
  {
   "cell_type": "code",
   "execution_count": null,
   "id": "88298ba4-65c4-4c4d-af16-685f8791bd6c",
   "metadata": {},
   "outputs": [],
   "source": []
  },
  {
   "cell_type": "code",
   "execution_count": null,
   "id": "29adef87-ee9e-4070-b2e3-5168b39975a9",
   "metadata": {},
   "outputs": [],
   "source": []
  },
  {
   "cell_type": "code",
   "execution_count": 18,
   "id": "3f9b1c1e-5a6d-47b5-b9cb-21c27ef2b9bc",
   "metadata": {
    "tags": []
   },
   "outputs": [],
   "source": [
    "#QUESTION 10"
   ]
  },
  {
   "cell_type": "code",
   "execution_count": 19,
   "id": "6d5f4c08-9823-4ffb-b15a-875464458adb",
   "metadata": {
    "tags": []
   },
   "outputs": [],
   "source": [
    "#HOW TO TRANSPOSE THE FOLLOWING ARRAY IN NUMPY?\n",
    "[[1,2,3,4]\n",
    "[5,6,7,8],\n",
    "[9,10,11,12]]"
   ]
  },
  {
   "cell_type": "code",
   "execution_count": null,
   "id": "5c796b90-a38b-4d51-8a2b-524a5eac0a6b",
   "metadata": {},
   "outputs": [],
   "source": [
    "import numpy as np\n",
    "array = np.array([[1,2,3,4],[5,6,7,8],[9,10"
   ]
  },
  {
   "cell_type": "code",
   "execution_count": null,
   "id": "0362c114-5177-412d-856f-6eb89a122a77",
   "metadata": {},
   "outputs": [],
   "source": []
  },
  {
   "cell_type": "code",
   "execution_count": null,
   "id": "488ff619-17d6-4aba-a9cf-9b7fe9ebfba5",
   "metadata": {},
   "outputs": [],
   "source": []
  },
  {
   "cell_type": "code",
   "execution_count": 20,
   "id": "381e018b-d362-49f7-806a-48ad928c326a",
   "metadata": {
    "tags": []
   },
   "outputs": [],
   "source": [
    "#QUESTION 11"
   ]
  },
  {
   "cell_type": "code",
   "execution_count": null,
   "id": "6f065055-3a6e-4fc0-b453-5e40e848fb01",
   "metadata": {},
   "outputs": [],
   "source": [
    "#CONSIDERE THE FOLLOWING MATRIX:\n",
    "MATRIX A: [[1,2,3,4][5,6,7,8],[9,10,11,12]]\n",
    "MATRIX B: [[1,2,3,4][5,6,7,8],[9,10,11,12]]     "
   ]
  },
  {
   "cell_type": "code",
   "execution_count": 35,
   "id": "36af3dfc-2ee2-4100-a48d-3ef0319089fd",
   "metadata": {
    "tags": []
   },
   "outputs": [],
   "source": [
    "import numpy as np\n",
    "A = np.array([[1,2,3,4],[5,6,7,8],[9,10,11,12]])\n",
    "B = np.array([[1,2,3,4],[5,6,7,8],[9,10,11,12]])"
   ]
  },
  {
   "cell_type": "code",
   "execution_count": 36,
   "id": "c4880509-9021-4bbf-9803-ccd48f99362c",
   "metadata": {
    "tags": []
   },
   "outputs": [
    {
     "name": "stdout",
     "output_type": "stream",
     "text": [
      "[[ 2  4  6  8]\n",
      " [10 12 14 16]\n",
      " [18 20 22 24]]\n"
     ]
    }
   ],
   "source": [
    "addition_result = A+B\n",
    "print(addition_result)"
   ]
  },
  {
   "cell_type": "code",
   "execution_count": 39,
   "id": "3f8845ce-b1dc-4dcf-9296-91f7731548c8",
   "metadata": {
    "tags": []
   },
   "outputs": [
    {
     "name": "stdout",
     "output_type": "stream",
     "text": [
      "[[  1   4   9  16]\n",
      " [ 25  36  49  64]\n",
      " [ 81 100 121 144]]\n"
     ]
    }
   ],
   "source": [
    "multiplication_result = A*B\n",
    "print(multiplication_result)"
   ]
  },
  {
   "cell_type": "code",
   "execution_count": 40,
   "id": "a26d2195-344c-4177-a8c7-334a72599724",
   "metadata": {
    "tags": []
   },
   "outputs": [
    {
     "name": "stdout",
     "output_type": "stream",
     "text": [
      "[[ 2  4  6  8]\n",
      " [10 12 14 16]\n",
      " [18 20 22 24]]\n"
     ]
    }
   ],
   "source": [
    "sum_result = np.add(A,B)\n",
    "print(sum_result)"
   ]
  },
  {
   "cell_type": "code",
   "execution_count": 41,
   "id": "7168617b-149a-462b-9fbd-848ad2f5c9e0",
   "metadata": {
    "tags": []
   },
   "outputs": [
    {
     "name": "stdout",
     "output_type": "stream",
     "text": [
      "[[0 0 0 0]\n",
      " [0 0 0 0]\n",
      " [0 0 0 0]]\n"
     ]
    }
   ],
   "source": [
    "subtraction_result = np.subtract(A,B)\n",
    "print(subtraction_result)"
   ]
  },
  {
   "cell_type": "code",
   "execution_count": 42,
   "id": "91879e05-3320-408d-a137-4dd920175a76",
   "metadata": {
    "tags": []
   },
   "outputs": [
    {
     "name": "stdout",
     "output_type": "stream",
     "text": [
      "[[1. 1. 1. 1.]\n",
      " [1. 1. 1. 1.]\n",
      " [1. 1. 1. 1.]]\n"
     ]
    }
   ],
   "source": [
    "division_result = np.divide(B,A)\n",
    "print(division_result)"
   ]
  },
  {
   "cell_type": "code",
   "execution_count": null,
   "id": "bfc9e97b-b111-4765-ae75-1d47dd063fc3",
   "metadata": {},
   "outputs": [],
   "source": []
  },
  {
   "cell_type": "code",
   "execution_count": null,
   "id": "060561a0-d07f-4a59-900c-46dfb4595ce3",
   "metadata": {},
   "outputs": [],
   "source": []
  },
  {
   "cell_type": "code",
   "execution_count": 37,
   "id": "d5ea93d1-3877-4970-a050-944a3b2cfdb9",
   "metadata": {
    "tags": []
   },
   "outputs": [],
   "source": [
    "#QUESTION 12"
   ]
  },
  {
   "cell_type": "code",
   "execution_count": 38,
   "id": "f5160413-9df3-42e8-97e9-bbe8f3b44e29",
   "metadata": {
    "tags": []
   },
   "outputs": [],
   "source": [
    "#WHICH FUNCTION IN NUMPY CAN BE USED TO SWAP THE BYTE ORDER OF AN ARRAY?"
   ]
  },
  {
   "cell_type": "code",
   "execution_count": null,
   "id": "1ad5733f-4763-4319-a365-f79f4d5013fa",
   "metadata": {},
   "outputs": [],
   "source": [
    "\"\"\"To swap the byte order of an array in NumPy, you can use the byteswap() function. This function allows you to\n",
    "   change the byte order of the elements in the array.\n",
    "\n",
    "   You can use byteswap() with the desired byte order as an argument. The byte order can be specified using the \n",
    "   following options:\n",
    "- 'little': Swap to little-endian byte order.\n",
    "- 'big': Swap to big-endian byte order."
   ]
  },
  {
   "cell_type": "code",
   "execution_count": 33,
   "id": "3fed9f76-2c75-480b-b625-952b05d0bd21",
   "metadata": {
    "tags": []
   },
   "outputs": [
    {
     "name": "stdout",
     "output_type": "stream",
     "text": [
      "[16777216 33554432 50331648 67108864]\n"
     ]
    }
   ],
   "source": [
    "import numpy as np\n",
    "\n",
    "original_array = np.array([1, 2, 3, 4], dtype=np.int32)\n",
    "swapped_array = original_array.byteswap('big')\n",
    "\n",
    "print(swapped_array)"
   ]
  },
  {
   "cell_type": "code",
   "execution_count": null,
   "id": "73828f63-0eff-430d-bc58-723ff6a9a8e0",
   "metadata": {},
   "outputs": [],
   "source": []
  },
  {
   "cell_type": "code",
   "execution_count": 24,
   "id": "b2818e07-2ba3-4d98-beb8-054f849ee356",
   "metadata": {
    "tags": []
   },
   "outputs": [],
   "source": [
    "#QUESTION 13"
   ]
  },
  {
   "cell_type": "code",
   "execution_count": 25,
   "id": "5bd1b6cb-58c9-4b78-b83e-e1626e7d2605",
   "metadata": {
    "tags": []
   },
   "outputs": [],
   "source": [
    "#WHAT IS THE SIGNIFICANCE OF THE np.linalg.inv FUNCTION?"
   ]
  },
  {
   "cell_type": "code",
   "execution_count": null,
   "id": "785a0856-228e-43b9-aaea-cf64d112c3cc",
   "metadata": {},
   "outputs": [],
   "source": [
    "\"\"\"The np.linalg.inv() function in NumPy is used to compute the inverse of a square matrix. The inverse of a\n",
    "   matrix has various applications in linear algebra and other fields.\n",
    "\n",
    "   The significance of np.linalg.inv() lies in its ability to solve systems of linear equations and perform \n",
    "   matrix computations. By finding the inverse of a matrix, you can solve equations of the form Ax = b, where\n",
    "   A is the coefficient matrix, x is the unknown variable vector, and b is the constant vector.\n",
    "\n",
    "  It's important to note that not all matrices have an inverse. In such cases, the np.linalg.inv() function will\n",
    "  raise a LinAlgError exception.\n",
    "\n",
    "  The np.linalg.inv() function is a powerful tool for solving linear equations, performing matrix operations,\n",
    "  and solving various mathematical problems. It's widely used in scientific computing and data analysis."
   ]
  },
  {
   "cell_type": "code",
   "execution_count": 34,
   "id": "64ab051c-c379-4674-8b83-c2ecb34dc38b",
   "metadata": {
    "tags": []
   },
   "outputs": [
    {
     "name": "stdout",
     "output_type": "stream",
     "text": [
      "[[-2.5  1.5]\n",
      " [ 2.  -1. ]]\n"
     ]
    }
   ],
   "source": [
    "import numpy as np\n",
    "\n",
    "A = np.array([[2, 3], [4, 5]])\n",
    "A_inv = np.linalg.inv(A)\n",
    "\n",
    "print(A_inv)"
   ]
  },
  {
   "cell_type": "code",
   "execution_count": null,
   "id": "9e65d260-1d71-490d-9565-abb0829dbcd0",
   "metadata": {},
   "outputs": [],
   "source": []
  },
  {
   "cell_type": "code",
   "execution_count": null,
   "id": "5290b4ab-1098-4912-8ac3-a2218a0e598e",
   "metadata": {},
   "outputs": [],
   "source": []
  },
  {
   "cell_type": "code",
   "execution_count": 26,
   "id": "eccda3fd-5027-45fe-b24f-81865442d8a6",
   "metadata": {
    "tags": []
   },
   "outputs": [],
   "source": [
    "#QUESTION 14"
   ]
  },
  {
   "cell_type": "code",
   "execution_count": 27,
   "id": "51618b9b-1fd6-4a45-911b-94b37ab5c564",
   "metadata": {
    "tags": []
   },
   "outputs": [],
   "source": [
    "#WHAT DOES THE np.reshape FUNCTION DO, AND HOW IS IT USED?"
   ]
  },
  {
   "cell_type": "code",
   "execution_count": null,
   "id": "fc0d789a-740f-4e34-864f-1628caeddf2c",
   "metadata": {},
   "outputs": [],
   "source": [
    "\"\"\"The np.reshape() function in NumPy is used to change the shape of an array without altering its data. It\n",
    "   allows you to rearrange the elements of an array into a different shape, as long as the total number of \n",
    "   elements remains the same.\n",
    "\n",
    "   To use np.reshape(), you pass in the array you want to reshape as the first argument, and the desired shape as\n",
    "   the second argument. The shape can be specified as a tuple of integers or as a single integer for a\n",
    "   1-dimensional array\n",
    "   \n",
    "   np.reshape() is a powerful function that allows you to manipulate the shape of arrays in various ways. It can\n",
    "   be particularly useful when working with multidimensional arrays or when you need to rearrange data for a \n",
    "   specific purpose.\n"
   ]
  },
  {
   "cell_type": "code",
   "execution_count": 30,
   "id": "0846f9f0-63c2-4441-890b-42535d0c9303",
   "metadata": {
    "tags": []
   },
   "outputs": [
    {
     "name": "stdout",
     "output_type": "stream",
     "text": [
      "[[ 1  2  3  4]\n",
      " [ 5  6  7  8]\n",
      " [ 9 10 11 12]]\n"
     ]
    }
   ],
   "source": [
    "import numpy as np\n",
    "\n",
    "original_array = np.array([1, 2, 3, 4, 5, 6, 7, 8, 9, 10, 11, 12])\n",
    "reshaped_array = np.reshape(original_array, (3, 4))\n",
    "\n",
    "print(reshaped_array)"
   ]
  },
  {
   "cell_type": "code",
   "execution_count": null,
   "id": "32636916-32b8-4f13-a122-8d4a677539ae",
   "metadata": {},
   "outputs": [],
   "source": []
  },
  {
   "cell_type": "code",
   "execution_count": null,
   "id": "8995c066-1099-4b7c-b909-a1044569b487",
   "metadata": {},
   "outputs": [],
   "source": []
  },
  {
   "cell_type": "code",
   "execution_count": 28,
   "id": "d523ffb7-df38-40a1-97bd-d96c6d1eb098",
   "metadata": {
    "tags": []
   },
   "outputs": [],
   "source": [
    "#QUESTION 15"
   ]
  },
  {
   "cell_type": "code",
   "execution_count": 29,
   "id": "4a79f82f-d436-4968-8cf0-5092e89bd2f6",
   "metadata": {
    "tags": []
   },
   "outputs": [],
   "source": [
    "#WHAT IS BROADCASTING IN NUMPY?"
   ]
  },
  {
   "cell_type": "code",
   "execution_count": null,
   "id": "f70d18ea-ff42-43e3-918a-dafaaab6d7b3",
   "metadata": {},
   "outputs": [],
   "source": [
    "\"\"\"In NumPy, broadcasting refers to the ability of arrays with different shapes to be used in arithmetic \n",
    "   operations. When performing operations between arrays with different shapes, NumPy automatically broadcasts \n",
    "   the arrays to make the operation possible. This allows you to perform element-wise operations on arrays of\n",
    "   different sizes without explicitly writing loops.\n",
    "\n",
    "   For example, if you have a 2x2 array and you want to add a scalar value to it, broadcasting will automatically\n",
    "   expand the scalar value to match the shape of the array, so that the addition can be performed element-wise.\n",
    "\n",
    "   Broadcasting rules in NumPy are quite flexible and allow arrays with different shapes to be combined, as long\n",
    "   as they are compatible. It helps simplify the code and makes working with arrays more efficient."
   ]
  }
 ],
 "metadata": {
  "kernelspec": {
   "display_name": "Python 3 (ipykernel)",
   "language": "python",
   "name": "python3"
  },
  "language_info": {
   "codemirror_mode": {
    "name": "ipython",
    "version": 3
   },
   "file_extension": ".py",
   "mimetype": "text/x-python",
   "name": "python",
   "nbconvert_exporter": "python",
   "pygments_lexer": "ipython3",
   "version": "3.11.4"
  }
 },
 "nbformat": 4,
 "nbformat_minor": 5
}
